{
 "metadata": {
  "name": ""
 },
 "nbformat": 3,
 "nbformat_minor": 0,
 "worksheets": [
  {
   "cells": [
    {
     "cell_type": "markdown",
     "metadata": {},
     "source": [
      "#Unit 1 - Probability models and axioms\n",
      "\n",
      "Sample space $\\Omega$ -> set of possible outcomes. Can be finite or infinite\n",
      "\n",
      "##Probability axioms\n",
      "\n",
      "* Event -> subset of sample space \n",
      "\n",
      "$P(A) \\ge 0$\n",
      "\n",
      "$P(\\Omega) = 1$\n",
      "\n",
      "$ A \\cap B = \\emptyset \\implies P(A \\cup B) = P(A) + P(B)$\n",
      "\n",
      "It's easily generisible to multiple set|events via induction.\n",
      "\n",
      "$P(A \\cup B) = P(A) + P(B) - P(A \\cap B)$\n",
      "\n",
      "*Countable* Aditivity axiom $P(A_1 \\cup A_2 \\cup \\ldots) = P(A_1) + P(A_2) + \\ldots$\n",
      "Unit square is not countable. \n",
      "\n",
      "$P(A \\cup B) \\ge P(A) + P(B) - 1$"
     ]
    },
    {
     "cell_type": "markdown",
     "metadata": {},
     "source": [
      "#Unit 2 - Condition and independance\n",
      "\n",
      "Conditional probability - $P(A|B) = \\frac{P(A \\cap B)}{P(B)}$ Probability that A occurs given B; $P(B) > 0$. \n",
      "\n",
      "Common properties:\n",
      "\n",
      "* $P(A|B) \\ge 0$\n",
      "* $P(\\Omega | B) = 1$\n",
      "* $P(B|B) = 1$\n",
      "* $A \\cap C = \\varnothing \\implies P(A \\cup C | B) = P(A|B) + P(C|B)$\n",
      "\n",
      "Multiplication rule: \n",
      "\n",
      "* $P(A\\cap B) = P(A) P(B|A)$\n",
      "* $P(A\\cap B) = P(B) P(A|B)$\n",
      "\n",
      "Total probability theorem:\n",
      "\n",
      "* $P(B) = \\sum_{i}{P(A_i)P(B|A_i)}$ $A_i$ particija $\\Omega$"
     ]
    },
    {
     "cell_type": "code",
     "collapsed": false,
     "input": [],
     "language": "python",
     "metadata": {},
     "outputs": []
    }
   ],
   "metadata": {}
  }
 ]
}