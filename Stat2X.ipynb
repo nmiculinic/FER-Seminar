{
 "metadata": {
  "name": ""
 },
 "nbformat": 3,
 "nbformat_minor": 0,
 "worksheets": [
  {
   "cells": [
    {
     "cell_type": "markdown",
     "metadata": {},
     "source": [
      "[Online interactive book](http://www.stat.berkeley.edu/~stark/SticiGui/index.htm)\n",
      "\n",
      "#Stat 2X.1\n",
      "[MOOC](https://www.edx.org/course/introduction-statistics-descriptive-uc-berkeleyx-stat2-1x)\n",
      "\n",
      "##Week 1\n",
      "###Variable\n",
      "* quantitative\n",
      "\t* discrete\n",
      "\t* continuous\n",
      "* categorical | qualitative\n",
      "\t* color\n",
      "\t* race\n",
      "* qualitative ordinal\n",
      "\t* temperature - cold, mild, hot\n",
      "\n",
      "###Bar Graph\n",
      "![Bar Graphs](http://getwordwall.com/Attachments/Screenshots/Play/bar-graph.png)\n",
      "\n",
      "###Stem and Leaf plot\n",
      "![Steam and Leaf Plot](http://www.mathatube.com/images/stem_ans_leaaf_plot-008.jpg)\n",
      "\n",
      "###Distribution table\n",
      "In intervals data clustering left endpoint included, right excluded. Outliers concatenated into endpoint buckets.\n",
      "\n",
      "![Distribution table example](http://www.kwiznet.com/px/homes/i/Math_Contest_Prep/stat_freqtable3.gif)\n",
      "\n",
      "###Histogram\n",
      "*Area* of the bar = *percent* in the intervals\n",
      "\n",
      "![Example Histogram](http://upload.wikimedia.org/wikipedia/commons/thumb/5/53/Cumulative_vs_normal_histogram.svg/2000px-Cumulative_vs_normal_histogram.svg.png)\n",
      "\n",
      "###Percentiles\n",
      "p-th percentile is value such that p percent of the data is less or equal then. When assessing percentiles within histograms we assume values are uniformly distributed with a bar.\n",
      "* 25th percentile = lower quartile\n",
      "* 50th percentile = median\n",
      "* 75th percentile = upper quartile\n",
      "\n",
      "The pth percentile of a list of numbers is the smallest number that is at\n",
      "least as large as p% of the list.\n"
     ]
    },
    {
     "cell_type": "markdown",
     "metadata": {},
     "source": [
      "##Week 2\n",
      "###Common terms\n",
      "* Mean == expected value of random variable\n",
      "* Mode == value with highest frequency\n",
      "* Unimodal distribution has only one peak.\n",
      "\n",
      "###Acquiring data\n",
      "* Longitudinal studies -- acquiring data by following same subject for some time\n",
      "* Cross sectional studies -- acquiring data by cross secting subjects at different age.\n",
      "\n",
      "###Mean  vs. Median\n",
      "* Median unaffected by outliers\n",
      "* Right-skewed distribution (right hand tail) - mean > median\n",
      "* Left-skewed distribution (left hand tail)   - mean < median\n",
      "* percentile and averages does not necessarily relate. They depend on underlying distribution\n",
      "\n",
      "###Markov inequality\n",
      "In non-negative data sets, upper bound of values $\\ge k\\mu$ is $1/k$\n",
      "\n",
      "###Measuring spread\n",
      "* range\n",
      "* IRQ - Interquartile range\n",
      "* Standard Deviation (why n in formula for descriptive statistics and n-1 otherwise???)\n",
      "###Chebychev Inequality\n",
      "* Percent of proportion outside the range average \u00b1k\u00d7SD is\n",
      "at most 1/k^2 \n"
     ]
    },
    {
     "cell_type": "markdown",
     "metadata": {},
     "source": [
      "\n",
      "##Week 3\n",
      "###Normal curves \n",
      "* inflexions points and mu +- sd\n",
      "* Need more information?? -proofs, common theorems and all that jazz. This section is rather week\n",
      "\n",
      "##Week 4\n",
      "###Bivariate data\n",
      "* scatter plot\n",
      "* vertical and horizontal slice\n",
      "* vertical and horizontal scatter\n",
      "* association: any relation between variables\n",
      "* positive association: above average values of one variable tend to go with above average values of the other; the scatter slopes up\n",
      "* negative association: above average values of one variable tend to go with below average values of the other; the scatter slopes down\n",
      "* linear association: roughly, the scatter diagram is clustered around a straight linear\n",
      "* Homoscedasticity and Heteroscedasticity\n",
      "* football shaped\n",
      "\n",
      "###Correlation coefficient\n",
      "* between -1 and 1\n",
      "* invariant on coordinate axes and linear transformations (difference between affine and linear??)\n",
      "* Need more proofs.\n",
      "* simple formula => 1/n * dot product of z-scores of data. Maybe there is something more to this explanation??\n",
      "* How to generate plot with given r??\n",
      "* Ecological Correlation - clustering on averages (e.g. instead of student results taking into account state results) artificially increases correlation\n",
      "\n",
      "###Linear regression\n",
      "* minimizing rms error of estimate. $\\sqrt(\\frac{1}{n}\\sum{(a*x_i + b - y_i)^2}$\n",
      "* formula given as y (in standard units) = r * x (in standard units)\n",
      "* I know usual calculus based approach in proving (without all the r business). Would like to see bit more detail \n",
      "* regression towards the mean\n",
      "* regression fallacy\n",
      "\n",
      "###Linear regression error\n",
      "* rms error of regression line = $\\sqrt{1-r^2} \\cdot \\text{sd}(Y)$ irrelevant of scatter diagram\n",
      "* Residual plot - differences between data and regression line (the best one)\n",
      "\t* average is 0\n",
      "\t* no linear association between residuals and x\n",
      "\t* Good regression: Residual plot looks like a formless blob around the horizontal axis.\n",
      "\t* Heteroscedasticity - different spread on residual plot\n",
      "\t* Outliers - unusually large positive or negative value on residual plot\n",
      "\t* Nonlinearity - residuals predominantly positive/negative on section of residual plot"
     ]
    },
    {
     "cell_type": "markdown",
     "metadata": {},
     "source": [
      "#Stat 2.2X Introduction to Statistics: ProbabilityDashboard \n",
      "\n",
      "[link](https://www.edx.org/course/introduction-statistics-probability-uc-berkeleyx-stat2-2x)\n",
      "\n",
      "##Week 1\n",
      "Tips and tricks - visualize with a probabilty tree\n",
      "\n",
      "##Week 2\n",
      "\n",
      "Binomial distribution. Each trial has success probability $p$ and is with replacemen. Out of $n$ trials there are exectly $k$ successes are:\n",
      "\n",
      "$\\binom{n}{k}p^k (1-p)^{n-k}$\n",
      "\n",
      "Hypergeometric formula. $n$ trials are made without replacement from population $N$. Probability there are going to be $g$ good ones where $G$ is total number of good ones is:\n",
      "\n",
      "$\\frac{\\binom{G}{g} \\binom{N-G}{n-g}}{\\binom{N}{n}}$"
     ]
    },
    {
     "cell_type": "markdown",
     "metadata": {},
     "source": [
      "##Week 3: Law of averages\n",
      "\n",
      "As the number of trials increases, the chance that the proportion of successes is in the range\n",
      "$p\\pm \\text{a fixed amount}$ goes to 1. [??] - I'd like to talk a bit more about this."
     ]
    },
    {
     "cell_type": "code",
     "collapsed": false,
     "input": [
      "from scipy.stats import binom\n",
      "\n",
      "a = [binom.pmf(x, 100, 0.5)  for x in range(45, 55 + 1)]\n",
      "b = [binom.pmf(x, 1000, 0.5) for x in range(450, 550 +1)]\n",
      "\n",
      "print (sum(a), sum(b))\n"
     ],
     "language": "python",
     "metadata": {},
     "outputs": [
      {
       "output_type": "stream",
       "stream": "stdout",
       "text": [
        "0.728746975926 0.998608258406\n"
       ]
      }
     ],
     "prompt_number": 1
    },
    {
     "cell_type": "markdown",
     "metadata": {},
     "source": [
      "##Week 4\n",
      "A bit about averages and standard error and standard deviation. \n",
      "\n",
      "SE of the sum of the draws:\n",
      "\n",
      "If the draws are with replacement, the standard error of the sum of the draws is:\n",
      "$\\sqrt{\\text{(number of draws)}} \\text{(SD of the box)} = \\sqrt{n} \\sigma$\n",
      "\n",
      "Tj. \n",
      "\n",
      "$\\text{Var[X + X + X + ...]} = n \\text{Var[X]}$\n",
      "Hmmm???? Zasto? Ok dokazao sam... fora :) Jos sam malo o ko-varijanci naucio.\n",
      "\n",
      "$\\text{cov}(X, Y) = E[(X-E[X])(Y-E[Y])] = E[XY] - E[X]E[Y]$\n",
      "\n",
      "Difference between $\\text{Standard Error}$ and $\\text{Standard deviance}$ ??\n",
      "\n",
      "###Normal approximation\n",
      "Approximating binomial distribution with normal. $\\mu$ are equal and $\\sigma = \\sqrt{np(1-p)}$. Beware of continuity correction. For example let $p = 0.5$, $n = 100$ To find out how probablity of successes between 45 and 55 inclusive evaluate: $\\int_{44.5}^{55.5}{\\text{pdf}(x) dx}$"
     ]
    },
    {
     "cell_type": "code",
     "collapsed": false,
     "input": [
      "%pylab inline --no-import-all\n",
      "import numpy as np\n",
      "from scipy.stats import binom\n",
      "from pylab import *\n",
      "\n",
      "n = 100\n",
      "p = 0.5\n",
      "\n",
      "x = np.array(list(range(0, n + 1)))\n",
      "x\n",
      "y = binom.pmf(x, n, p)\n",
      "y\n",
      "\n",
      "plot(x,y)"
     ],
     "language": "python",
     "metadata": {},
     "outputs": [
      {
       "output_type": "stream",
       "stream": "stdout",
       "text": [
        "Populating the interactive namespace from numpy and matplotlib\n"
       ]
      },
      {
       "metadata": {},
       "output_type": "pyout",
       "prompt_number": 39,
       "text": [
        "[<matplotlib.lines.Line2D at 0x7f04220b8dd8>]"
       ]
      },
      {
       "metadata": {},
       "output_type": "display_data",
       "png": "[encoded data removed]",
       "text": [
        "<matplotlib.figure.Figure at 0x7f04215b3cc0>"
       ]
      }
     ],
     "prompt_number": 39
    },
    {
     "cell_type": "markdown",
     "metadata": {},
     "source": [
      "Approximating sum of discrete random variables with continuos pdf?? A few questions about it.\n",
      "\n",
      "How good does normal distribution approximates random variable??"
     ]
    },
    {
     "cell_type": "markdown",
     "metadata": {},
     "source": [
      "##Week 5: The accuracy of sample random sample\n",
      "\n",
      "Setting: Population of size $N$ with known average $\\mu$ and sd $\\sigma$. We are sampling $n$ data points from this population.\n",
      "\n",
      "###With replacement\n",
      "\n",
      "$\\overline{X} = \\frac{\\sum_{i=1}^n{X_i}}{n}$, each $X_i$ is identically and independently distributed. \n",
      "\n",
      "$E[\\overline{X}] = \\mu$ of course since this should be unbiased estimator. Easily seen by linearity of E\n",
      "\n",
      "$\\text{Var}[\\overline{X}] = \\frac{1}{n^2} \\cdot n \\cdot \\text{Var}[X] = \\frac{\\text{Var}[X]}{n}$\n",
      "\n",
      "###Without replacement\n",
      "\n",
      "$\\overline{X} = \\frac{\\sum_{i=1}^n{X_i}}{n}$, each $X_i$ is identically distributed, but they are not indipendent. \n",
      "\n",
      "$E[\\overline{X}] = \\mu$ of course since this should be unbiased estimator\n",
      "\n",
      "$\\text{Var}[\\overline{X}] = \\frac{\\text{Var}[X]}{n} \\cdot \\frac{N-n}{N-1}$ Why???\n",
      "\n",
      "finite population correction $\\Rightarrow$ $\\sqrt{\\frac{N-n}{N-1}}$ for SE.\n"
     ]
    },
    {
     "cell_type": "markdown",
     "metadata": {},
     "source": [
      "#Stat 2.3X Inference\n",
      "##Week 1\n",
      "###Terminology\n",
      "\n",
      "* Population: a collection of units or individuals\n",
      "* Parameter: a number associated with the population\n",
      "* Sample: a subset of the population\n",
      "* Estimate: a number computed from the sample, and used as a guess for the parameter\n",
      "* Random sample or probability sample - it's possible to calcualte probability that each unit or individual is in the sample\n",
      "* Simple random sample - each individual has the same probability\n",
      "* Cluster sample\n",
      "\n",
      "Which one to choose? Obviously simple random sample is hard to accomplish, but when I really need it instead of cluster sample.\n",
      "\n",
      "###Pitfalls\n",
      "\n",
      "* Selection bias: systematically leaving out a section of the population\n",
      "* Non-response bias: people not answering survey questions\n",
      "\n",
      "####Bigger isn\u2019t always better\n",
      "If the method of sampling is bad, taking a large sample doesn\u2019t help. You\n",
      "just get a big bad sample.\n",
      "\n",
      "###Simple random sample\n",
      "unbiased mean estimator = $\\frac{1}{N}\\sum{x}$\n",
      "\n",
      "unbiased variance estimator of population = $\\frac{1}{N-1}\\sum{(x-\\mu)^2}$\n",
      "\n",
      "###Approximate Confidence Intervals\n",
      "If sample is large enough for Central limit theorem to kick in (for sample averages)... Assume normal distribution of sample.\n"
     ]
    },
    {
     "cell_type": "markdown",
     "metadata": {},
     "source": [
      "##Week 2 - Testing hypotheses\n",
      "A test of hypotheses:\n",
      "\n",
      "* $H_0$ Null hypotheses - one which we want to test e.g. Coin is fair\n",
      "* $H_a$ Altrenative hypotheses - altrenative to null e.g. coin is biased towards head\n",
      "* Assuming the null is true, the chance of getting data like the data in the sample or even more like the alternative: P-value\n",
      "\n",
      "Method: If P is small, choose the alternative. Otherwise stay with the null.\n",
      "\n",
      "\n",
      "|                | Chose $H_0$   | Chose $H_a$ |\n",
      "|:---------------|:-------------:|:-----------:|\n",
      "|$H_0$ is correct|correct        | Type I error. Significance level |\n",
      "|$H_a$ is correct| Type II error | correct. Power |\n",
      "\n",
      "* Significance level - how probable is to chose $H_a$ under this test if $H_0$ is correct. Should be small.\n",
      "* Power level - how probably is to chose $H_a$ if $H_a$ is correct. Should be large."
     ]
    },
    {
     "cell_type": "markdown",
     "metadata": {},
     "source": [
      "##Week 3\n",
      "Misaoni eksperiment... sutra... koliki je nepristrani estimator od $\\text{Var}[X]$ ako imam $n$ uzorka i poznati $\\mu$?"
     ]
    },
    {
     "cell_type": "markdown",
     "metadata": {},
     "source": [
      "###One-sample t test\n",
      "Pretpostavke:\n",
      "\n",
      "* Assume population distribution roughly normal, unknown mean and SD. If sample is large CLT applies and no worries here. \n",
      "* Approximate unknown SD of population by sample SD = $\\frac{1}{N-1}\\sum{(x-\\mu)^2}$\n",
      "* Use $t$ curve, degrees of freedom = $n \u2212 1$. Degrees of freedom?? T-Curve??\n",
      "\n",
      "### Zero-one variable\n",
      "Pooled $p$ - whem testing whether the same percentage is in both populations. Then \n",
      "\n",
      "##Week 4 - Dependent sample\n",
      "\n",
      "* Variance of difference of random variables\n",
      "* sign test\n",
      "* Use your head and it's simple - you have \n",
      "\n",
      "###Randomized Experiments\n",
      "####Example:\n",
      "\n",
      "For each of the 300 students, there are two hypothetical scores:\n",
      "\n",
      "* score if placed in treatment group\n",
      "* score if placed in control group\n",
      "\n",
      "#####Goal is to compare:\n",
      "\n",
      "* $\\mu_t$ = mean of all 300 hypothetical \u201ctreatment\u201d scores\n",
      "* $\\mu_c$ = mean of all 300 hypothetical \u201ccontrol\u201d scores\n",
      "\n",
      "#####Data:\n",
      "\n",
      "* treatment scores of SRS of 200 students mean 75, SD 15\n",
      "* control scores of remaining 100 students mean 80, SD 12\n",
      "* Null: $\\mu_t$  = $\\mu_c$ Alternative: \u00b5t < \u00b5c\n",
      "\n",
      "#####Process:\n",
      "\n",
      "* Dubious step 1: Sample sizes 200 and 100; population size 300; shoud have used correction factor but didn't\n",
      "* $\\text{SE}_{\\mu_t} = \\frac{15}{\\sqrt{200}} \\approx 1.06$\n",
      "* $\\text{SE}_{\\mu_c} = \\frac{12}{\\sqrt{100}} \\approx 1.2$\n",
      "* Dubious step 2: Assuming they are independant.\n",
      "* $\\text{SE}_{\\mu_c - \\mu_t} = \\sqrt{1.2^2 + 1.06^2}$ \n",
      "\n",
      "Why those dubious step... this buggs me the most\n"
     ]
    },
    {
     "cell_type": "markdown",
     "metadata": {},
     "source": [
      "##Week 5\n",
      "\n",
      "###Chi squared distribution\n",
      "\n",
      "* parameterized by $k$ - degrees of freedom\n",
      "* mean $k$\n",
      "* variance $2k$\n",
      "* As the degrees of freedom increase, the chi-square curve looks more and more like a normal curve.\n",
      "\n",
      "###Test counting in categories. \n",
      "\n",
      "* $\\sum_{\\text{each category}} {\\frac{(o-e)^2}{e}}$ where $e$ is expected and $o$ is observed count. \n",
      "* Follows (approximately) the chi-square $\u03c7^2$ distribution with degrees of freedom = number of categories \u2212 1\n",
      "* What's the deal with degrees of freedom and similar??\n"
     ]
    },
    {
     "cell_type": "code",
     "collapsed": false,
     "input": [],
     "language": "python",
     "metadata": {},
     "outputs": []
    }
   ],
   "metadata": {}
  }
 ]
}