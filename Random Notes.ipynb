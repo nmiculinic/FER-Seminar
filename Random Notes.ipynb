{
 "metadata": {
  "name": ""
 },
 "nbformat": 3,
 "nbformat_minor": 0,
 "worksheets": [
  {
   "cells": [
    {
     "cell_type": "markdown",
     "metadata": {},
     "source": [
      "#Chapter 1 - The role of statististics in engineering\n",
      "\n",
      "* Statistical thinking\n",
      "* Statistical interface\n",
      "* Completely Random experiment\n",
      "* observational study\n",
      "* Degigned experiment\n",
      "* Hypothesis testing\n",
      "* Mechanistic model\n",
      "* Empirical model\n",
      "* Regression model\n",
      "* Factorial experiment"
     ]
    },
    {
     "cell_type": "markdown",
     "metadata": {},
     "source": [
      "#Chapter 2 - Steam and Leaf and other plots\n",
      "#Chapter 3 - Random Varibles and probability distributions\n",
      "\n",
      "* Random experiment\n",
      "* Discrete and continous random variable\n",
      "* Event\n",
      "\n",
      "* Normal distribution\n",
      "* Central limit Theorem\n",
      "* "
     ]
    },
    {
     "cell_type": "markdown",
     "metadata": {},
     "source": [
      "##Normal distribution\n",
      "\n",
      "Sum of two independent normal distribution is normal distribution. Variance and means are summed up accordingly.\n",
      "\n",
      "OK, malo googlanja i [ovo](http://en.wikipedia.org/wiki/Logarithmically_concave_function) i [ovo](http://en.wikipedia.org/wiki/Rejection_sampling#Adaptive_rejection_sampling)\n",
      "\n",
      "[whaat?? Smoothness of characteristic functions](http://en.wikipedia.org/wiki/Smoothness_(probability_theory))\n",
      "\n",
      "##Binomial Distribution \n",
      "\n",
      "* multiple independent Bernulli trials. Mean $np$, Variance $np(1-p)$\n",
      "* $p$ is constant in multiply tries\n",
      "\n",
      "##Poisson process\n",
      "\n",
      "* generalized Binomial. Mean $\\lambda$ and variance $\\lambda$. The random variable representing distance between two \"successes\" is expomential with same parameter $\\lambda$\n",
      "\n",
      "##Exponential distribution\n",
      "\n",
      "* lack of memory property\n",
      "\n",
      "##Normal approximation\n",
      "\n",
      "* excellent for Binomial with large $n$. Rule of thumb $np > 5$ and $n(1-p) > 5$\n",
      "* Likewise for Poisson for large $\\lambda$. Rule of thumb $\\lambda > 5$\n",
      "\n",
      "##Some definitions\n",
      "\n",
      "* Random sample\n",
      "* Statistics - is a function of random variables in a random sample\n",
      "* The pdf of statistics is called sampling distribution\n",
      "* Central Limit Theorem\n",
      "\n",
      "##Questions\n",
      "\n",
      "* why is number of degrees of freedom in contingency table equals to min(r,s) - 1"
     ]
    },
    {
     "cell_type": "markdown",
     "metadata": {},
     "source": [
      "#Chapter 4 - Decision making for a single sample\n",
      "\n",
      "* Population\n",
      "* Sample from population\n",
      "\n",
      "Two major areas in statistical inference:\n",
      "\n",
      "* parameter estimation \n",
      "* hypothesis testing\n",
      "\n",
      "##Point estimate\n",
      "\n",
      "* usual estimaes are resonable. Just variance estimator has $n-1$ instead of $n$ in denominator.7\n",
      "* Unbiased estimator -- one whose expected value is parameter being estimated\n",
      "* Minimum variance unbiased estimator -- just as name says.. of all unbiased estimators we pick one with minimum variance. \n",
      "* paramater and bias relationship...\n",
      "* Mean squared error\n",
      "* The standard error (SE) is the standard deviation of the sampling distribution of a statistic.\n",
      "\n",
      "##Hypothesis\n",
      "\n",
      "* Comparative experiment. \n",
      "* A statistical hypothesis is a statement about the parameters of one or more populations\n",
      "\n",
      "* Null hypothesis\n",
      "* One and two-sided altrenative hypothesis\n",
      "* Using test statistics to determine whether to accept null or altrenative\n",
      "\n",
      "###Errors\n",
      "\n",
      "* Type I error - $\\alpha$. Rejecting the null when it's true\n",
      "* Type II error - $\\beta$. Accepting the null when it's false.\n",
      "\n",
      "\n",
      "|                | Chose $H_0$   | Chose $H_a$ |\n",
      "|:---------------|:-------------:|:-----------:|\n",
      "|$H_0$ is correct|correct        | Type I error. Significance level |\n",
      "|$H_a$ is correct| Type II error | 1-$\\beta$ Power |\n",
      "\n"
     ]
    },
    {
     "cell_type": "markdown",
     "metadata": {},
     "source": [
      "###4-27\n",
      "\n",
      "* (a) Reject $H_0$\n",
      "* (b) 0.001\n",
      "* (c) (74.035, 74.037)\n",
      "* (d) 74.036"
     ]
    },
    {
     "cell_type": "code",
     "collapsed": false,
     "input": [
      "%pylab inline\n",
      "from pylab import *\n",
      "from scipy.stats import norm, t\n"
     ],
     "language": "python",
     "metadata": {},
     "outputs": [
      {
       "output_type": "stream",
       "stream": "stdout",
       "text": [
        "Populating the interactive namespace from numpy and matplotlib\n"
       ]
      },
      {
       "output_type": "stream",
       "stream": "stderr",
       "text": [
        "WARNING: pylab import has clobbered these variables: ['power', 'info', 'norm', 'random', 'fft', 'linalg']\n",
        "`%pylab --no-import-all` prevents importing * from pylab and numpy\n"
       ]
      }
     ],
     "prompt_number": 7
    },
    {
     "cell_type": "code",
     "collapsed": false,
     "input": [
      "sd = 0.001\n",
      "n = 15\n",
      "mu = 74.036\n",
      "rmu = 74.035\n",
      "alfa = 0.01\n",
      "\n",
      "sdAvg = sd / (n**0.5)\n",
      "print ((mu-rmu)/sdAvg)\n",
      "p = 1 - norm.cdf((mu-rmu)/sdAvg)\n",
      "\n",
      "if alfa > p:\n",
      "    print (\"(a) reject null\")\n",
      "else:\n",
      "    print (\"(a) fail to reject null\")\n",
      "\n",
      "print (\"(b) P\", p, 2*p)\n",
      "\n",
      "#C 99% confidence intrval \n",
      "dd = norm.isf(alfa/2) * sdAvg\n",
      "lower = mu - dd\n",
      "upper = mu + dd\n",
      "print (\"(c)\", lower, upper)\n",
      "\n",
      "#D 95% lower confidence interval\n",
      "print (\"(d)\", mu - norm.isf(1-0.95)*sdAvg)"
     ],
     "language": "python",
     "metadata": {},
     "outputs": [
      {
       "output_type": "stream",
       "stream": "stdout",
       "text": [
        "3.8729833462259102\n",
        "(a) reject null\n",
        "(b) P 5.37555883606e-05 0.000107511176721\n",
        "(c) 74.0353349237 74.0366650763\n",
        "(d) 74.0355753006\n"
       ]
      }
     ],
     "prompt_number": 80
    },
    {
     "cell_type": "markdown",
     "metadata": {},
     "source": [
      "###4-29\n",
      "\n",
      "* (a) Reject null\n",
      "* (b) 0\n",
      "* (c) (3237.53, 3273.31)\n",
      "* (d) (3231.96, 3278.88)"
     ]
    },
    {
     "cell_type": "code",
     "collapsed": false,
     "input": [
      "#Population Variance\n",
      "sd2 = 1000\n",
      "sd = sd2**0.5\n",
      "\n",
      "#Sample\n",
      "n = 12\n",
      "mu = 3255.42\n",
      "\n",
      "#a\n",
      "h0mu = 3500\n",
      "alfa = 0.01\n",
      "\n",
      "sdAvg = sd / n**0.5\n",
      "p = 1-norm.cdf((h0mu-mu)/sdAvg)\n",
      "print (\"P-value\", p)\n",
      "print (\"z-score\", (h0mu-mu)/sdAvg)\n",
      "\n",
      "#c\n",
      "dd = norm.isf((1-0.95)/2) * sdAvg\n",
      "print (\"(c)\", (mu-dd, mu+dd))\n",
      "print (norm.isf((1-0.95)/2, mu, sdAvg))\n",
      "print (norm.ppf((1-0.95)/2, mu, sdAvg))\n",
      "\n",
      "#d\n",
      "dd = norm.isf((1-0.99)/2) * sdAvg\n",
      "print (\"(d)\", (mu-dd, mu+dd))\n"
     ],
     "language": "python",
     "metadata": {},
     "outputs": [
      {
       "output_type": "stream",
       "stream": "stdout",
       "text": [
        "P-value 0.0\n",
        "z-score 26.7923966229227\n",
        "(c) (3237.5280585628284, 3273.3119414371718)\n",
        "3273.31194144\n",
        "3237.52805856\n",
        "(d) (3231.9060031027243, 3278.9339968972758)\n"
       ]
      }
     ],
     "prompt_number": 4
    },
    {
     "cell_type": "code",
     "collapsed": false,
     "input": [
      "df = 3\n",
      "x = np.linspace(t.ppf(0.05, df), t.ppf(0.95, df), 100)\n",
      "plot(x, t.pdf(x, df), 'r-', lw=1, alpha=0.6, label='t pdf')\n",
      "plot(x, norm.pdf(x), 'b-', lw=1, alpha=0.6, label='normal pdf')\n",
      "legend()"
     ],
     "language": "python",
     "metadata": {},
     "outputs": [
      {
       "metadata": {},
       "output_type": "pyout",
       "prompt_number": 24,
       "text": [
        "<matplotlib.legend.Legend at 0x7f7a075b2278>"
       ]
      },
      {
       "metadata": {},
       "output_type": "display_data",
       "png": "[encoded data removed]",
       "text": [
        "<matplotlib.figure.Figure at 0x7f7a077779b0>"
       ]
      }
     ],
     "prompt_number": 24
    },
    {
     "cell_type": "markdown",
     "metadata": {},
     "source": [
      "###4-39\n",
      "* (a)  Reject $H_0$\n",
      "* (b) P in <0.0005, 0.001>\n",
      "* (c) (4.025, 4.092)"
     ]
    },
    {
     "cell_type": "code",
     "collapsed": false,
     "input": [
      "n = 25\n",
      "mu = 4.058\n",
      "s = 0.081\n",
      "\n",
      "# Test that mu exceeds 4\n",
      "# H_0; mu < 4\n",
      "# H_a = mu >= 4\n",
      "\n",
      "ss_AVG = s / sqrt(n)\n",
      "t_ds = (mu - 4)/ss_AVG\n",
      "\n",
      "print (0.0005)\n",
      "print(\"P value = \", t.sf(t_ds, n-1)) #n-1 degrees of freedom\n",
      "print (0.001)\n",
      "\n",
      "#Confidence interval on mean\n",
      "\n",
      "(lower, upper) = (t.ppf((1-0.95)/2, n-1, mu, ss_AVG), t.isf((1-0.95)/2, n-1, mu, ss_AVG))\n",
      "print (lower, upper)\n",
      "\n",
      "#Confidence interval.. nice :)\n",
      "print (t.interval(0.95, n-1, mu, ss_AVG))\n"
     ],
     "language": "python",
     "metadata": {},
     "outputs": [
      {
       "output_type": "stream",
       "stream": "stdout",
       "text": [
        "0.0005\n",
        "P value =  0.000754983958826\n",
        "0.001\n",
        "4.0245648433 4.0914351567\n",
        "(4.0245648433016257, 4.091435156698374)\n"
       ]
      }
     ],
     "prompt_number": 43
    }
   ],
   "metadata": {}
  }
 ]
}