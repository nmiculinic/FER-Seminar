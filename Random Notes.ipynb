{
 "metadata": {
  "name": ""
 },
 "nbformat": 3,
 "nbformat_minor": 0,
 "worksheets": [
  {
   "cells": [
    {
     "cell_type": "markdown",
     "metadata": {},
     "source": [
      "#Chapter 1 - The role of statististics in engineering\n",
      "\n",
      "* Statistical thinking\n",
      "* Statistical interface\n",
      "* Completely Random experiment\n",
      "* observational study\n",
      "* Degigned experiment\n",
      "* Hypothesis testing\n",
      "* Mechanistic model\n",
      "* Empirical model\n",
      "* Regression model\n",
      "* Factorial experiment"
     ]
    },
    {
     "cell_type": "markdown",
     "metadata": {},
     "source": [
      "#Chapter 2 - Steam and Leaf and other plots\n",
      "#Chapter 3 - Random Varibles and probability distributions\n",
      "\n",
      "* Random experiment\n",
      "* Discrete and continous random variable\n",
      "* Event\n",
      "\n",
      "* Normal distribution\n",
      "* Central limit Theorem\n",
      "* "
     ]
    },
    {
     "cell_type": "markdown",
     "metadata": {},
     "source": [
      "##Normal distribution\n",
      "\n",
      "Sum of two independent normal distribution is normal distribution. Variance and means are summed up accordingly.\n",
      "\n",
      "OK, malo googlanja i [ovo](http://en.wikipedia.org/wiki/Logarithmically_concave_function) i [ovo](http://en.wikipedia.org/wiki/Rejection_sampling#Adaptive_rejection_sampling)\n",
      "\n",
      "[whaat?? Smoothness of characteristic functions](http://en.wikipedia.org/wiki/Smoothness_(probability_theory))\n",
      "\n",
      "##Binomial Distribution \n",
      "\n",
      "* multiple independent Bernulli trials. Mean $np$, Variance $np(1-p)$\n",
      "* $p$ is constant in multiply tries\n",
      "\n",
      "##Poisson process\n",
      "\n",
      "* generalized Binomial. Mean $\\lambda$ and variance $\\lambda$. The random variable representing distance between two \"successes\" is expomential with same parameter $\\lambda$\n",
      "\n",
      "##Exponential distribution\n",
      "\n",
      "* lack of memory property\n",
      "\n",
      "##Normal approximation\n",
      "\n",
      "* excellent for Binomial with large $n$. Rule of thumb $np > 5$ and $n(1-p) > 5$\n",
      "* Likewise for Poisson for large $\\lambda$. Rule of thumb $\\lambda > 5$\n",
      "\n",
      "##Some definitions\n",
      "\n",
      "* Random sample\n",
      "* Statistics - is a function of random variables in a random sample\n",
      "* The pdf of statistics is called sampling distribution\n",
      "* Central Limit Theorem\n",
      "\n",
      "##Questions\n",
      "\n",
      "* why is number of degrees of freedom in contingency table equals to min(r,s) - 1"
     ]
    },
    {
     "cell_type": "markdown",
     "metadata": {},
     "source": [
      "#Chapter 4 - Decision making for a single sample\n",
      "\n",
      "* Population\n",
      "* Sample from population\n",
      "\n",
      "Two major areas in statistical inference:\n",
      "\n",
      "* parameter estimation \n",
      "* hypothesis testing\n",
      "\n",
      "##Point estimate\n",
      "\n",
      "* usual estimaes are resonable. Just variance estimator has $n-1$ instead of $n$ in denominator.7\n",
      "* Unbiased estimator -- one whose expected value is parameter being estimated\n",
      "* Minimum variance unbiased estimator -- just as name says.. of all unbiased estimators we pick one with minimum variance. \n",
      "* paramater and bias relationship...\n",
      "* Mean squared error\n",
      "* The standard error (SE) is the standard deviation of the sampling distribution of a statistic.\n",
      "\n",
      "##Hypothesis\n",
      "\n",
      "* Comparative experiment. \n",
      "* A statistical hypothesis is a statement about the parameters of one or more populations\n",
      "\n",
      "* Null hypothesis\n",
      "* One and two-sided altrenative hypothesis\n",
      "* Using test statistics to determine whether to accept null or altrenative\n",
      "\n",
      "###Errors\n",
      "\n",
      "* Type I error - $\\alpha$. Rejecting the null when it's true\n",
      "* Type II error - $\\beta$. Accepting the null when it's false.\n",
      "\n",
      "\n",
      "|                | Chose $H_0$   | Chose $H_a$ |\n",
      "|:---------------|:-------------:|:-----------:|\n",
      "|$H_0$ is correct|correct        | Type I error. Significance level |\n",
      "|$H_a$ is correct| Type II error | 1-$\\beta$ Power |\n",
      "\n"
     ]
    },
    {
     "cell_type": "markdown",
     "metadata": {},
     "source": [
      "###4-27\n",
      "\n",
      "* (a) Reject $H_0$\n",
      "* (b) 0.001\n",
      "* (c) (74.035, 74.037)\n",
      "* (d) 74.036"
     ]
    },
    {
     "cell_type": "code",
     "collapsed": false,
     "input": [
      "%pylab inline\n",
      "from pylab import *\n",
      "from scipy.stats import norm, t, chi2\n"
     ],
     "language": "python",
     "metadata": {},
     "outputs": [
      {
       "output_type": "stream",
       "stream": "stdout",
       "text": [
        "Populating the interactive namespace from numpy and matplotlib\n"
       ]
      }
     ],
     "prompt_number": 2
    },
    {
     "cell_type": "code",
     "collapsed": false,
     "input": [
      "sd = 0.001\n",
      "n = 15\n",
      "mu = 74.036\n",
      "rmu = 74.035\n",
      "alfa = 0.01\n",
      "\n",
      "sdAvg = sd / (n**0.5)\n",
      "print ((mu-rmu)/sdAvg)\n",
      "p = 1 - norm.cdf((mu-rmu)/sdAvg)\n",
      "\n",
      "if alfa > p:\n",
      "    print (\"(a) reject null\")\n",
      "else:\n",
      "    print (\"(a) fail to reject null\")\n",
      "\n",
      "print (\"(b) P\", p, 2*p)\n",
      "\n",
      "#C 99% confidence intrval \n",
      "dd = norm.isf(alfa/2) * sdAvg\n",
      "lower = mu - dd\n",
      "upper = mu + dd\n",
      "print (\"(c)\", lower, upper)\n",
      "\n",
      "#D 95% lower confidence interval\n",
      "print (\"(d)\", mu - norm.isf(1-0.95)*sdAvg)"
     ],
     "language": "python",
     "metadata": {},
     "outputs": [
      {
       "output_type": "stream",
       "stream": "stdout",
       "text": [
        "3.8729833462259102\n",
        "(a) reject null\n",
        "(b) P 5.37555883606e-05 0.000107511176721\n",
        "(c) 74.0353349237 74.0366650763\n",
        "(d) 74.0355753006\n"
       ]
      }
     ],
     "prompt_number": 80
    },
    {
     "cell_type": "markdown",
     "metadata": {},
     "source": [
      "###4-29\n",
      "\n",
      "* (a) Reject null\n",
      "* (b) 0\n",
      "* (c) (3237.53, 3273.31)\n",
      "* (d) (3231.96, 3278.88)"
     ]
    },
    {
     "cell_type": "code",
     "collapsed": false,
     "input": [
      "#Population Variance\n",
      "sd2 = 1000\n",
      "sd = sd2**0.5\n",
      "\n",
      "#Sample\n",
      "n = 12\n",
      "mu = 3255.42\n",
      "\n",
      "#a\n",
      "h0mu = 3500\n",
      "alfa = 0.01\n",
      "\n",
      "sdAvg = sd / n**0.5\n",
      "p = 1-norm.cdf((h0mu-mu)/sdAvg)\n",
      "print (\"P-value\", p)\n",
      "print (\"z-score\", (h0mu-mu)/sdAvg)\n",
      "\n",
      "#c\n",
      "dd = norm.isf((1-0.95)/2) * sdAvg\n",
      "print (\"(c)\", (mu-dd, mu+dd))\n",
      "print (norm.isf((1-0.95)/2, mu, sdAvg))\n",
      "print (norm.ppf((1-0.95)/2, mu, sdAvg))\n",
      "\n",
      "#d\n",
      "dd = norm.isf((1-0.99)/2) * sdAvg\n",
      "print (\"(d)\", (mu-dd, mu+dd))\n"
     ],
     "language": "python",
     "metadata": {},
     "outputs": [
      {
       "output_type": "stream",
       "stream": "stdout",
       "text": [
        "P-value 0.0\n",
        "z-score 26.7923966229227\n",
        "(c) (3237.5280585628284, 3273.3119414371718)\n",
        "3273.31194144\n",
        "3237.52805856\n",
        "(d) (3231.9060031027243, 3278.9339968972758)\n"
       ]
      }
     ],
     "prompt_number": 4
    },
    {
     "cell_type": "code",
     "collapsed": false,
     "input": [
      "df = 3\n",
      "x = np.linspace(t.ppf(0.05, df), t.ppf(0.95, df), 100)\n",
      "plot(x, t.pdf(x, df), 'r-', lw=1, alpha=0.6, label='t pdf')\n",
      "plot(x, norm.pdf(x), 'b-', lw=1, alpha=0.6, label='normal pdf')\n",
      "legend()"
     ],
     "language": "python",
     "metadata": {},
     "outputs": [
      {
       "metadata": {},
       "output_type": "pyout",
       "prompt_number": 24,
       "text": [
        "<matplotlib.legend.Legend at 0x7f7a075b2278>"
       ]
      },
      {
       "metadata": {},
       "output_type": "display_data",
       "png": "[encoded data removed]",
       "text": [
        "<matplotlib.figure.Figure at 0x7f7a077779b0>"
       ]
      }
     ],
     "prompt_number": 24
    },
    {
     "cell_type": "markdown",
     "metadata": {},
     "source": [
      "###4-39\n",
      "* (a)  Reject $H_0$\n",
      "* (b) P in <0.0005, 0.001>\n",
      "* (c) (4.025, 4.092)"
     ]
    },
    {
     "cell_type": "code",
     "collapsed": false,
     "input": [
      "n = 25\n",
      "mu = 4.058\n",
      "s = 0.081\n",
      "\n",
      "# Test that mu exceeds 4\n",
      "# H_0; mu < 4\n",
      "# H_a = mu >= 4\n",
      "\n",
      "ss_AVG = s / sqrt(n)\n",
      "t_ds = (mu - 4)/ss_AVG\n",
      "\n",
      "print (0.0005)\n",
      "print(\"P value = \", t.sf(t_ds, n-1)) #n-1 degrees of freedom\n",
      "print (0.001)\n",
      "\n",
      "#Confidence interval on mean\n",
      "\n",
      "(lower, upper) = (t.ppf((1-0.95)/2, n-1, mu, ss_AVG), t.isf((1-0.95)/2, n-1, mu, ss_AVG))\n",
      "print (lower, upper)\n",
      "\n",
      "#Confidence interval.. nice :)\n",
      "print (t.interval(0.95, n-1, mu, ss_AVG))\n"
     ],
     "language": "python",
     "metadata": {},
     "outputs": [
      {
       "output_type": "stream",
       "stream": "stdout",
       "text": [
        "0.0005\n",
        "P value =  0.000754983958826\n",
        "0.001\n",
        "4.0245648433 4.0914351567\n",
        "(4.0245648433016257, 4.091435156698374)\n"
       ]
      }
     ],
     "prompt_number": 43
    },
    {
     "cell_type": "markdown",
     "metadata": {},
     "source": [
      "$X = \\frac{(n-1) s^2}{\\sigma^2}$ which is $\\chi^2$ random variable with $n-1$ degrees of freedom where $s^2$ is sample variance from normal distributed popuation with variance $\\sigma^2$ Let's plot one after 10 samples."
     ]
    },
    {
     "cell_type": "code",
     "collapsed": false,
     "input": [
      "x = linspace(0, 40, 1000)\n",
      "df = 10\n",
      "\n",
      "plot(x, chi2.pdf(df, x, 0, 16))"
     ],
     "language": "python",
     "metadata": {},
     "outputs": [
      {
       "metadata": {},
       "output_type": "pyout",
       "prompt_number": 53,
       "text": [
        "[<matplotlib.lines.Line2D at 0x7feb392e9320>]"
       ]
      },
      {
       "metadata": {},
       "output_type": "display_data",
       "png": "[encoded data removed]",
       "text": [
        "<matplotlib.figure.Figure at 0x7feb39780cc0>"
       ]
      }
     ],
     "prompt_number": 53
    },
    {
     "cell_type": "markdown",
     "metadata": {},
     "source": [
      "If we want to get sample variance distribution under given population variance we have to apply function $\\psi(x) = \\frac{\\sigma^2}{n-1}x$ onto $\\chi^2_{n-1}$. That is $S^2 \\sim \\frac{\\sigma^2}{n-1} \\chi^2_{n-1}$\n",
      "\n",
      "Let $g$ be probability density function for $\\chi^2_{n-1}$ and $f$ probability density function for $S$ they are related as:\n",
      "\n",
      "$f(x) = g(\\psi^{-1}(x)) \\left| \\psi^{-1'}(x )\\right| $ that is $f(x) = g(\\frac{n-1}{\\sigma^2}x) \\frac{n-1}{\\sigma^2}$ Example follows:"
     ]
    },
    {
     "cell_type": "code",
     "collapsed": false,
     "input": [
      "from scipy.integrate import quad\n",
      "from pylab import *\n",
      "from scipy.stats import norm, t, chi2\n",
      "\n",
      "x = linspace(0, 100, 1000)\n",
      "sigma2 = 20\n",
      "df = 10\n",
      "\n",
      "fact = (df-1)/sigma2\n",
      "\n",
      "plot(x, chi2.pdf(df-1, x*fact)*fact)\n",
      "\n",
      "print (\"pdf integraion:\", quad(lambda x:chi2.pdf(df-1, x), 0, numpy.inf))\n",
      "\n",
      "f = lambda l : l * chi2.pdf(df-1, l*fact)*fact\n",
      "print (\"expected value:\", quad(f, 0, numpy.inf))\n",
      "\n",
      "plot(x, chi2.pdf(df-1, x, 0, fact))\n",
      "\n",
      "print (\"expected value:\", quad(lambda l : l * chi2.pdf(df-1, l, 0,fact), 0, numpy.inf))\n",
      "print (\"expected value:\", quad(lambda l : chi2.pdf(10, l, 0,fact), 0, numpy.inf))\n",
      "\n",
      "print(chi2.mean(df-1, 0, 1/fact))\n",
      "print ((df-1)/fact)"
     ],
     "language": "python",
     "metadata": {},
     "outputs": [
      {
       "ename": "NameError",
       "evalue": "name 'numpy' is not defined",
       "output_type": "pyerr",
       "traceback": [
        "\u001b[0;31m---------------------------------------------------------------------------\u001b[0m\n\u001b[0;31mNameError\u001b[0m                                 Traceback (most recent call last)",
        "\u001b[0;32m<ipython-input-1-6d0d0fda27a3>\u001b[0m in \u001b[0;36m<module>\u001b[0;34m()\u001b[0m\n\u001b[1;32m     11\u001b[0m \u001b[0mplot\u001b[0m\u001b[0;34m(\u001b[0m\u001b[0mx\u001b[0m\u001b[0;34m,\u001b[0m \u001b[0mchi2\u001b[0m\u001b[0;34m.\u001b[0m\u001b[0mpdf\u001b[0m\u001b[0;34m(\u001b[0m\u001b[0mdf\u001b[0m\u001b[0;34m-\u001b[0m\u001b[0;36m1\u001b[0m\u001b[0;34m,\u001b[0m \u001b[0mx\u001b[0m\u001b[0;34m*\u001b[0m\u001b[0mfact\u001b[0m\u001b[0;34m)\u001b[0m\u001b[0;34m*\u001b[0m\u001b[0mfact\u001b[0m\u001b[0;34m)\u001b[0m\u001b[0;34m\u001b[0m\u001b[0m\n\u001b[1;32m     12\u001b[0m \u001b[0;34m\u001b[0m\u001b[0m\n\u001b[0;32m---> 13\u001b[0;31m \u001b[0mprint\u001b[0m \u001b[0;34m(\u001b[0m\u001b[0;34m\"pdf integraion:\"\u001b[0m\u001b[0;34m,\u001b[0m \u001b[0mquad\u001b[0m\u001b[0;34m(\u001b[0m\u001b[0;32mlambda\u001b[0m \u001b[0mx\u001b[0m\u001b[0;34m:\u001b[0m\u001b[0mchi2\u001b[0m\u001b[0;34m.\u001b[0m\u001b[0mpdf\u001b[0m\u001b[0;34m(\u001b[0m\u001b[0mdf\u001b[0m\u001b[0;34m-\u001b[0m\u001b[0;36m1\u001b[0m\u001b[0;34m,\u001b[0m \u001b[0mx\u001b[0m\u001b[0;34m)\u001b[0m\u001b[0;34m,\u001b[0m \u001b[0;36m0\u001b[0m\u001b[0;34m,\u001b[0m \u001b[0mnumpy\u001b[0m\u001b[0;34m.\u001b[0m\u001b[0minf\u001b[0m\u001b[0;34m)\u001b[0m\u001b[0;34m)\u001b[0m\u001b[0;34m\u001b[0m\u001b[0m\n\u001b[0m\u001b[1;32m     14\u001b[0m \u001b[0;34m\u001b[0m\u001b[0m\n\u001b[1;32m     15\u001b[0m \u001b[0mf\u001b[0m \u001b[0;34m=\u001b[0m \u001b[0;32mlambda\u001b[0m \u001b[0ml\u001b[0m \u001b[0;34m:\u001b[0m \u001b[0ml\u001b[0m \u001b[0;34m*\u001b[0m \u001b[0mchi2\u001b[0m\u001b[0;34m.\u001b[0m\u001b[0mpdf\u001b[0m\u001b[0;34m(\u001b[0m\u001b[0mdf\u001b[0m\u001b[0;34m-\u001b[0m\u001b[0;36m1\u001b[0m\u001b[0;34m,\u001b[0m \u001b[0ml\u001b[0m\u001b[0;34m*\u001b[0m\u001b[0mfact\u001b[0m\u001b[0;34m)\u001b[0m\u001b[0;34m*\u001b[0m\u001b[0mfact\u001b[0m\u001b[0;34m\u001b[0m\u001b[0m\n",
        "\u001b[0;31mNameError\u001b[0m: name 'numpy' is not defined"
       ]
      }
     ],
     "prompt_number": 1
    },
    {
     "cell_type": "code",
     "collapsed": false,
     "input": [
      "#Some playing with chi^2 distribution and varios transformation.\n",
      "\n",
      "x = linspace(0, 50, 1000)\n",
      "plot(x, chi2.pdf(10, x), label=\"original\")\n",
      "plot(x, chi2.pdf(10, x + 3), label=\"translated\")\n",
      "plot(x, chi2.pdf(10, x/2)/2, label=\"scaled\")\n",
      "legend()"
     ],
     "language": "python",
     "metadata": {},
     "outputs": [
      {
       "metadata": {},
       "output_type": "pyout",
       "prompt_number": 19,
       "text": [
        "<matplotlib.legend.Legend at 0x7f02eda2fb00>"
       ]
      },
      {
       "metadata": {},
       "output_type": "display_data",
       "png": "[encoded data removed]",
       "text": [
        "<matplotlib.figure.Figure at 0x7f03118a2128>"
       ]
      }
     ],
     "prompt_number": 19
    },
    {
     "cell_type": "markdown",
     "metadata": {},
     "source": [
      "#### 4-47\n",
      "* reject $H_0$\n",
      "* (0.31, 0.46)"
     ]
    },
    {
     "cell_type": "code",
     "collapsed": false,
     "input": [
      "n = 51\n",
      "s = 0.37\n",
      "sigma = 0.25\n",
      "alpha = 0.05\n",
      "\n",
      "stat = (n-1)*s*s/(sigma*sigma)\n",
      "\n",
      "l,u = chi2.interval(1-alpha, n-1)\n",
      "if stat < l or stat > u:\n",
      "    print (\"Reject H_0\")\n",
      "else:\n",
      "    print (\"Fail to reject H_0\")\n",
      "\n",
      "l = (n-1)*s*s /chi2.isf(alpha/2, n-1)\n",
      "u = (n-1)*s*s /chi2.ppf(alpha/2, n-1)\n",
      "\n",
      "l = l**0.5\n",
      "u = u**0.5\n",
      "print (\"Confidence interval of standard deviation:\", l,u)"
     ],
     "language": "python",
     "metadata": {},
     "outputs": [
      {
       "output_type": "stream",
       "stream": "stdout",
       "text": [
        "Reject H_0\n",
        "Confidence interval of standard deviation: 0.309582362305 0.459938919934\n"
       ]
      }
     ],
     "prompt_number": 34
    },
    {
     "cell_type": "markdown",
     "metadata": {},
     "source": [
      "####4-43.\n",
      "\n",
      "* Fail to reject H_0\n",
      "* P value between 0.5 and 0.9\n",
      "* 0.012"
     ]
    },
    {
     "cell_type": "code",
     "collapsed": false,
     "input": [
      "n = 15\n",
      "s  = 0.016\n",
      "#standard deviation should not exceed 0.02\n",
      "sd = 0.02\n",
      "\n",
      "stat = (n-1)*s*s/(sd*sd)\n",
      "print(stat, chi2.isf(0.05, n-1))\n",
      "print(\"fail to reject... lhs is smaller\")\n",
      "\n",
      "print(\"P value:\", chi2.sf(stat, n-1))\n",
      "print(\"95% lower confidence value\", ((n-1)*s*s/chi2.ppf(0.95, n-1))**0.5)\n"
     ],
     "language": "python",
     "metadata": {},
     "outputs": []
    },
    {
     "cell_type": "markdown",
     "metadata": {},
     "source": [
      "#### 4-57\n",
      "\n",
      "* Fail to reject $H_0$\n",
      "* 0.732\n",
      "* 0.1314\n",
      "* 473"
     ]
    },
    {
     "cell_type": "code",
     "collapsed": false,
     "input": [
      "up = 0.04\n",
      "\n",
      "n = 300\n",
      "d = 14\n",
      "\n",
      "stat = (d - n*up) / sqrt(n*up*(1-up))\n",
      "\n",
      "\n",
      "\n",
      "#one sided\n",
      "print(\"one sided\")\n",
      "print (stat, norm.isf(0.05), \"Fail to reject H_0\")\n",
      "print(\"P value:\", norm.cdf(stat))\n",
      "\n",
      "x = linspace(0,30, 1000)\n",
      "plot(x, norm.pdf(x, n*up, sqrt(n*up*(1-up))), label =\"p = 0.04\")\n",
      "plot(x, norm.pdf(x, n*0.02, sqrt(n*0.02*(1-0.02))), label = \"p = 0.02\")\n",
      "legend()\n",
      "\n",
      "uci = norm.isf(0.05, n*up, sqrt(n*up*(1-up)))\n",
      "print(uci)\n",
      "print(norm.cdf(uci, n*0.02, sqrt(n*0.02*(1-0.02))))"
     ],
     "language": "python",
     "metadata": {},
     "outputs": [
      {
       "output_type": "stream",
       "stream": "stdout",
       "text": [
        "one sided\n",
        "0.589255650989 1.64485362695 Fail to reject H_0\n",
        "P value: 0.722155104859\n",
        "17.5828183376"
       ]
      },
      {
       "output_type": "stream",
       "stream": "stdout",
       "text": [
        "\n",
        "0.999999108907\n"
       ]
      },
      {
       "metadata": {},
       "output_type": "display_data",
       "png": "[encoded data removed]",
       "text": [
        "<matplotlib.figure.Figure at 0x7f02ed8c79b0>"
       ]
      }
     ],
     "prompt_number": 71
    },
    {
     "cell_type": "code",
     "collapsed": false,
     "input": [
      "A = matrix([[1,0,0],[0,1,0],[10,15,1]])\n",
      "A.I"
     ],
     "language": "python",
     "metadata": {},
     "outputs": [
      {
       "metadata": {},
       "output_type": "pyout",
       "prompt_number": 4,
       "text": [
        "matrix([[  1.,   0.,   0.],\n",
        "        [  0.,   1.,   0.],\n",
        "        [-10., -15.,   1.]])"
       ]
      }
     ],
     "prompt_number": 4
    },
    {
     "cell_type": "code",
     "collapsed": false,
     "input": [
      "#Nesto za conway game of life\n",
      "from numpy import *\n",
      "from numpy.random import randint\n"
     ],
     "language": "python",
     "metadata": {},
     "outputs": [],
     "prompt_number": 143
    },
    {
     "cell_type": "code",
     "collapsed": false,
     "input": [
      "def it(A):\n",
      "    B = A.copy()\n",
      "    A[1:,:] += B[:-1,:]\n",
      "    A[:-1,:] += B[1:,:]\n",
      "    A[:, 1:] += B[:, :-1]\n",
      "    A[:, :-1] += B[:, 1:]\n",
      "    \n",
      "    D = zeros(A.shape, dtype=int)\n",
      "    D[logical_and(A >=2 , A <= 3, B == 1)] = 1 #for living cells\n",
      "    D[logical_and(A == 3, B == 0)] = 1 #for living cells\n",
      "    return D\n"
     ],
     "language": "python",
     "metadata": {},
     "outputs": [],
     "prompt_number": 171
    },
    {
     "cell_type": "code",
     "collapsed": false,
     "input": [
      "from numpy.fft import fft, ifft, fft2, ifft2, fftshift\n",
      "import numpy as np\n",
      "\n",
      "def fft_convolve2d(x,y):\n",
      "   \"\"\" 2D convolution, using FFT\"\"\"\n",
      "   fr = fft2(x)\n",
      "   fr2 = fft2(np.flipud(np.fliplr(y)))\n",
      "   m,n = fr.shape\n",
      "   cc = np.real(ifft2(fr*fr2))\n",
      "   cc = np.roll(cc, -m/2+1,axis=0)\n",
      "   cc = np.roll(cc, -n/2+1,axis=1)\n",
      "   return cc\n",
      "\n",
      "def conway(state, k=None):\n",
      "   \"\"\"\n",
      "   Conway's game of life state transition\n",
      "   \"\"\"\n",
      "   # set up kernel if not given\n",
      "   if k == None:\n",
      "       m, n = state.shape\n",
      "       k = np.zeros((m, n))\n",
      "       k[m/2-1 : m/2+2, n/2-1 : n/2+2] = np.array([[1,1,1],[1,0,1],[1,1,1]])\n",
      "\n",
      "   # computes sums around each pixel\n",
      "   b = fft_convolve2d(state,k).round()\n",
      "   c = np.zeros(b.shape)\n",
      "\n",
      "\n",
      "   c[np.where((b == 2) & (state == 1))] = 1\n",
      "   c[np.where(b == 3)] = 1\n",
      "\n",
      "   c[np.where((b == 200) & (state == 100))] = 100\n",
      "   c[np.where(b == 300)] = 100\n",
      "\n",
      "   #c[np.where((b<0) &(b1<0))]=0\n",
      "\n",
      "\n",
      "   # return new state\n",
      "   return c"
     ],
     "language": "python",
     "metadata": {},
     "outputs": [],
     "prompt_number": 196
    },
    {
     "cell_type": "code",
     "collapsed": false,
     "input": [
      "%%timeit\n",
      "A = randint(2, size=(400,400))\n",
      "it(A)"
     ],
     "language": "python",
     "metadata": {},
     "outputs": [
      {
       "output_type": "stream",
       "stream": "stdout",
       "text": [
        "100 loops, best of 3: 7.32 ms per loop\n"
       ]
      }
     ],
     "prompt_number": 184
    },
    {
     "cell_type": "code",
     "collapsed": false,
     "input": [
      "A = randint(2, size=(400,400))\n",
      "conway(A)"
     ],
     "language": "python",
     "metadata": {},
     "outputs": [
      {
       "ename": "TypeError",
       "evalue": "Cannot cast array data from dtype('float64') to dtype('int64') according to the rule 'safe'",
       "output_type": "pyerr",
       "traceback": [
        "\u001b[0;31m---------------------------------------------------------------------------\u001b[0m\n\u001b[0;31mTypeError\u001b[0m                                 Traceback (most recent call last)",
        "\u001b[0;32m<ipython-input-194-979f7ffe66bf>\u001b[0m in \u001b[0;36m<module>\u001b[0;34m()\u001b[0m\n\u001b[1;32m      1\u001b[0m \u001b[0mA\u001b[0m \u001b[0;34m=\u001b[0m \u001b[0mrandint\u001b[0m\u001b[0;34m(\u001b[0m\u001b[0;36m2\u001b[0m\u001b[0;34m,\u001b[0m \u001b[0msize\u001b[0m\u001b[0;34m=\u001b[0m\u001b[0;34m(\u001b[0m\u001b[0;36m400\u001b[0m\u001b[0;34m,\u001b[0m\u001b[0;36m400\u001b[0m\u001b[0;34m)\u001b[0m\u001b[0;34m)\u001b[0m\u001b[0;34m\u001b[0m\u001b[0m\n\u001b[0;32m----> 2\u001b[0;31m \u001b[0mconway\u001b[0m\u001b[0;34m(\u001b[0m\u001b[0mA\u001b[0m\u001b[0;34m)\u001b[0m\u001b[0;34m\u001b[0m\u001b[0m\n\u001b[0m",
        "\u001b[0;32m<ipython-input-193-fa5bbee25270>\u001b[0m in \u001b[0;36mconway\u001b[0;34m(state, k)\u001b[0m\n\u001b[1;32m     23\u001b[0m \u001b[0;34m\u001b[0m\u001b[0m\n\u001b[1;32m     24\u001b[0m    \u001b[0;31m# computes sums around each pixel\u001b[0m\u001b[0;34m\u001b[0m\u001b[0;34m\u001b[0m\u001b[0m\n\u001b[0;32m---> 25\u001b[0;31m    \u001b[0mb\u001b[0m \u001b[0;34m=\u001b[0m \u001b[0mfft_convolve2d\u001b[0m\u001b[0;34m(\u001b[0m\u001b[0mstate\u001b[0m\u001b[0;34m,\u001b[0m\u001b[0mk\u001b[0m\u001b[0;34m)\u001b[0m\u001b[0;34m.\u001b[0m\u001b[0mround\u001b[0m\u001b[0;34m(\u001b[0m\u001b[0;34m)\u001b[0m\u001b[0;34m\u001b[0m\u001b[0m\n\u001b[0m\u001b[1;32m     26\u001b[0m    \u001b[0mc\u001b[0m \u001b[0;34m=\u001b[0m \u001b[0mnp\u001b[0m\u001b[0;34m.\u001b[0m\u001b[0mzeros\u001b[0m\u001b[0;34m(\u001b[0m\u001b[0mb\u001b[0m\u001b[0;34m.\u001b[0m\u001b[0mshape\u001b[0m\u001b[0;34m)\u001b[0m\u001b[0;34m\u001b[0m\u001b[0m\n\u001b[1;32m     27\u001b[0m \u001b[0;34m\u001b[0m\u001b[0m\n",
        "\u001b[0;32m<ipython-input-193-fa5bbee25270>\u001b[0m in \u001b[0;36mfft_convolve2d\u001b[0;34m(x, y)\u001b[0m\n\u001b[1;32m      8\u001b[0m    \u001b[0mm\u001b[0m\u001b[0;34m,\u001b[0m\u001b[0mn\u001b[0m \u001b[0;34m=\u001b[0m \u001b[0mfr\u001b[0m\u001b[0;34m.\u001b[0m\u001b[0mshape\u001b[0m\u001b[0;34m\u001b[0m\u001b[0m\n\u001b[1;32m      9\u001b[0m    \u001b[0mcc\u001b[0m \u001b[0;34m=\u001b[0m \u001b[0mnp\u001b[0m\u001b[0;34m.\u001b[0m\u001b[0mreal\u001b[0m\u001b[0;34m(\u001b[0m\u001b[0mifft2\u001b[0m\u001b[0;34m(\u001b[0m\u001b[0mfr\u001b[0m\u001b[0;34m*\u001b[0m\u001b[0mfr2\u001b[0m\u001b[0;34m)\u001b[0m\u001b[0;34m)\u001b[0m\u001b[0;34m\u001b[0m\u001b[0m\n\u001b[0;32m---> 10\u001b[0;31m    \u001b[0mcc\u001b[0m \u001b[0;34m=\u001b[0m \u001b[0mnp\u001b[0m\u001b[0;34m.\u001b[0m\u001b[0mroll\u001b[0m\u001b[0;34m(\u001b[0m\u001b[0mcc\u001b[0m\u001b[0;34m,\u001b[0m \u001b[0;34m-\u001b[0m\u001b[0mm\u001b[0m\u001b[0;34m/\u001b[0m\u001b[0;36m2\u001b[0m\u001b[0;34m+\u001b[0m\u001b[0;36m1\u001b[0m\u001b[0;34m,\u001b[0m\u001b[0maxis\u001b[0m\u001b[0;34m=\u001b[0m\u001b[0;36m0\u001b[0m\u001b[0;34m)\u001b[0m\u001b[0;34m\u001b[0m\u001b[0m\n\u001b[0m\u001b[1;32m     11\u001b[0m    \u001b[0mcc\u001b[0m \u001b[0;34m=\u001b[0m \u001b[0mnp\u001b[0m\u001b[0;34m.\u001b[0m\u001b[0mroll\u001b[0m\u001b[0;34m(\u001b[0m\u001b[0mcc\u001b[0m\u001b[0;34m,\u001b[0m \u001b[0;34m-\u001b[0m\u001b[0mn\u001b[0m\u001b[0;34m/\u001b[0m\u001b[0;36m2\u001b[0m\u001b[0;34m+\u001b[0m\u001b[0;36m1\u001b[0m\u001b[0;34m,\u001b[0m\u001b[0maxis\u001b[0m\u001b[0;34m=\u001b[0m\u001b[0;36m1\u001b[0m\u001b[0;34m)\u001b[0m\u001b[0;34m\u001b[0m\u001b[0m\n\u001b[1;32m     12\u001b[0m    \u001b[0;32mreturn\u001b[0m \u001b[0mcc\u001b[0m\u001b[0;34m\u001b[0m\u001b[0m\n",
        "\u001b[0;32m/usr/lib/python3/dist-packages/numpy/core/numeric.py\u001b[0m in \u001b[0;36mroll\u001b[0;34m(a, shift, axis)\u001b[0m\n\u001b[1;32m   1292\u001b[0m     \u001b[0mshift\u001b[0m \u001b[0;34m%=\u001b[0m \u001b[0mn\u001b[0m\u001b[0;34m\u001b[0m\u001b[0m\n\u001b[1;32m   1293\u001b[0m     \u001b[0mindexes\u001b[0m \u001b[0;34m=\u001b[0m \u001b[0mconcatenate\u001b[0m\u001b[0;34m(\u001b[0m\u001b[0;34m(\u001b[0m\u001b[0marange\u001b[0m\u001b[0;34m(\u001b[0m\u001b[0mn\u001b[0m \u001b[0;34m-\u001b[0m \u001b[0mshift\u001b[0m\u001b[0;34m,\u001b[0m \u001b[0mn\u001b[0m\u001b[0;34m)\u001b[0m\u001b[0;34m,\u001b[0m \u001b[0marange\u001b[0m\u001b[0;34m(\u001b[0m\u001b[0mn\u001b[0m \u001b[0;34m-\u001b[0m \u001b[0mshift\u001b[0m\u001b[0;34m)\u001b[0m\u001b[0;34m)\u001b[0m\u001b[0;34m)\u001b[0m\u001b[0;34m\u001b[0m\u001b[0m\n\u001b[0;32m-> 1294\u001b[0;31m     \u001b[0mres\u001b[0m \u001b[0;34m=\u001b[0m \u001b[0ma\u001b[0m\u001b[0;34m.\u001b[0m\u001b[0mtake\u001b[0m\u001b[0;34m(\u001b[0m\u001b[0mindexes\u001b[0m\u001b[0;34m,\u001b[0m \u001b[0maxis\u001b[0m\u001b[0;34m)\u001b[0m\u001b[0;34m\u001b[0m\u001b[0m\n\u001b[0m\u001b[1;32m   1295\u001b[0m     \u001b[0;32mif\u001b[0m \u001b[0mreshape\u001b[0m\u001b[0;34m:\u001b[0m\u001b[0;34m\u001b[0m\u001b[0m\n\u001b[1;32m   1296\u001b[0m         \u001b[0mres\u001b[0m \u001b[0;34m=\u001b[0m \u001b[0mres\u001b[0m\u001b[0;34m.\u001b[0m\u001b[0mreshape\u001b[0m\u001b[0;34m(\u001b[0m\u001b[0ma\u001b[0m\u001b[0;34m.\u001b[0m\u001b[0mshape\u001b[0m\u001b[0;34m)\u001b[0m\u001b[0;34m\u001b[0m\u001b[0m\n",
        "\u001b[0;31mTypeError\u001b[0m: Cannot cast array data from dtype('float64') to dtype('int64') according to the rule 'safe'"
       ]
      }
     ],
     "prompt_number": 194
    },
    {
     "cell_type": "code",
     "collapsed": false,
     "input": [
      "%pylab inline\n",
      "from pylab import *\n",
      "from numpy import *\n",
      "from scipy.stats import t, norm\n",
      "from numpy.random import normal\n",
      "\n",
      "#Ovo je primjer ulaznih podata za testiranje\n",
      "data = normal(3.1, 2, 5000)\n",
      "mu_test = 3\n",
      "alpha = 0.05\n",
      "\n",
      "\n",
      "n = data.size        # Broj uzoraka\n",
      "s = data.std(ddof=1) # Procjena standardne devijacije populaije (ne uzoraka)\n",
      "mu_s = data.mean()   # Procjena prosjeka iz uzoraka\n",
      "mu_s_s = s/sqrt(n)   # Standardna devijacija prosjeka uzoraka\n",
      "\n",
      "#Plottanje cisto da vidimo ulazne podatke\n",
      "hist(data, bins=7);\n",
      "\n",
      "(l,u) = t.interval(1-alpha, n - 1, mu_s,  mu_s_s)\n",
      "print (l,u)\n",
      "\n",
      "if l < mu_test and  mu_test < u:\n",
      "    print (\"H_0\")\n",
      "else:\n",
      "    print (\"H_a\")\n"
     ],
     "language": "python",
     "metadata": {},
     "outputs": [
      {
       "output_type": "stream",
       "stream": "stdout",
       "text": [
        "Populating the interactive namespace from numpy and matplotlib\n",
        "3.06778392874"
       ]
      },
      {
       "output_type": "stream",
       "stream": "stdout",
       "text": [
        " 3.17905196031\n",
        "H_a\n"
       ]
      },
      {
       "output_type": "stream",
       "stream": "stderr",
       "text": [
        "WARNING: pylab import has clobbered these variables: ['norm']\n",
        "`%pylab --no-import-all` prevents importing * from pylab and numpy\n"
       ]
      },
      {
       "metadata": {},
       "output_type": "display_data",
       "png": "[encoded data removed]",
       "text": [
        "<matplotlib.figure.Figure at 0x7f76f66a7ef0>"
       ]
      }
     ],
     "prompt_number": 52
    }
   ],
   "metadata": {}
  }
 ]
}